{
 "cells": [
  {
   "cell_type": "code",
   "execution_count": 1,
   "metadata": {},
   "outputs": [],
   "source": [
    "import numpy as np\n",
    "from scipy.optimize import linprog\n",
    "from simplex import simplex"
   ]
  },
  {
   "cell_type": "code",
   "execution_count": 6,
   "metadata": {
    "scrolled": true
   },
   "outputs": [
    {
     "name": "stdout",
     "output_type": "stream",
     "text": [
      "y_k [ 1.   0.  -0.5 -1.   0. ]\n",
      "d_N_k [ 0.  0.  0.  0.  0.  0. -1.  0.]\n",
      "y_k [0.  0.  0.5 0.  0. ]\n",
      "d_N_k [ 0.  0.  0.  0.  1. -1.  0.  0.]\n",
      "y_k [ 0.   1.  -0.5 -1.   0. ]\n",
      "d_N_k [0. 0. 0. 0. 0. 0. 0. 1.]\n",
      "-0.5833333333333334\n",
      "-0.5833333333333334\n"
     ]
    }
   ],
   "source": [
    "# Несколько переменных в функции цели\n",
    "\n",
    "A = np.array([[1, 1, 1, 1, 1, -1, 1, 0],\n",
    "              [1, 1, 1, 1, 1, -1, 0, -1],\n",
    "              [1, 1, 0, 0, 0, 0, 0, 0],\n",
    "              [0, 0, 1, 1, 0, 0, 0, 0],\n",
    "              [0, 1, 1, 0, 0, 0, 0, 0]])\n",
    "b = np.array([1, 0, 1/2, 1/3, 1/4])\n",
    "c = np.array([1/2, 1/2, 0, 0, 1, -1, 0, 0])\n",
    "\n",
    "x0 = np.array([0.25, 0.25, 0, 1/3, 1/6, 0, 0, 1])\n",
    "\n",
    "pack_res = linprog(c, A_eq=A, b_eq=b, x0=x0, method='revised simplex')['x']\n",
    "res = simplex(A, b, c, x0)\n",
    "print(c.dot(pack_res))\n",
    "print(c.dot(res))"
   ]
  },
  {
   "cell_type": "code",
   "execution_count": 8,
   "metadata": {},
   "outputs": [
    {
     "name": "stdout",
     "output_type": "stream",
     "text": [
      "y_k [ 1. -2.  1.  1.  1.]\n",
      "d_N_k [ 0. -1. -1.  0.  1. -1. -1. -2.  0.  3.  0.  0.  0.]\n",
      "y_k [ 1. -3.  1.  1.  1.]\n",
      "d_N_k [ 1.  0.  0.  1.  2. -2. -1. -3.  0.  4.  0.  0.  0.]\n",
      "y_k [ 1. -1.  1.  1. -1.]\n",
      "d_N_k [-1.  0.  0. -1.  0.  0. -1. -1.  0.  2.  0.  0.  2.]\n",
      "y_k [ 1. -1.  0.  1.  0.]\n",
      "d_N_k [ 0.  0. -1. -1.  0.  0. -1. -1.  0.  2.  1.  0.  1.]\n",
      "y_k [ 1. -1.  0.  1. -1.]\n",
      "d_N_k [ 0.  1.  0. -1.  0.  0. -1. -1.  0.  2.  1.  0.  2.]\n",
      "y_k [ 1. -1.  0.  0.  0.]\n",
      "d_N_k [ 0.  0.  0.  0.  0.  0. -1. -1.  0.  2.  1.  1.  1.]\n",
      "y_k [0. 0. 0. 0. 0.]\n",
      "d_N_k [0. 0. 0. 0. 0. 0. 0. 0. 1. 1. 1. 1. 1.]\n",
      "0.0\n",
      "0.0\n"
     ]
    }
   ],
   "source": [
    "# Метод искусственного базиса\n",
    "\n",
    "C = np.concatenate((A, np.eye(A.shape[0])), axis=1)\n",
    "y0 = np.concatenate((np.zeros(A.shape[1]), b), axis=0)\n",
    "\n",
    "d = np.array([0] * A.shape[1] + [1] * A.shape[0])\n",
    "\n",
    "lp_res = linprog(d, A_eq=C, b_eq=b, x0=y0, method='revised simplex')['x']\n",
    "res = simplex(C, b, d, y0)\n",
    "print(d.dot(lp_res))\n",
    "print(d.dot(res))"
   ]
  },
  {
   "cell_type": "code",
   "execution_count": null,
   "metadata": {},
   "outputs": [],
   "source": []
  },
  {
   "cell_type": "code",
   "execution_count": null,
   "metadata": {},
   "outputs": [],
   "source": []
  }
 ],
 "metadata": {
  "kernelspec": {
   "display_name": "Python 3",
   "language": "python",
   "name": "python3"
  },
  "language_info": {
   "codemirror_mode": {
    "name": "ipython",
    "version": 3
   },
   "file_extension": ".py",
   "mimetype": "text/x-python",
   "name": "python",
   "nbconvert_exporter": "python",
   "pygments_lexer": "ipython3",
   "version": "3.6.10"
  }
 },
 "nbformat": 4,
 "nbformat_minor": 4
}
